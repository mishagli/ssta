{
 "cells": [
  {
   "cell_type": "markdown",
   "metadata": {},
   "source": [
    "# RBF approximation for non-Gaussian delay propagation in VLSI\n",
    "### Dmytro Mishagli\n",
    "\n",
    "This Notebook contains the code to reproduce the results shown in the paper 'Radial Basis Functions Based Algorithms for non-Gaussian Delay Propagation in Very Large Circuits' by D. Mishagli and E. Blokhina."
   ]
  },
  {
   "cell_type": "code",
   "execution_count": 1,
   "metadata": {},
   "outputs": [],
   "source": [
    "import numpy as np\n",
    "import scipy.special as sp\n",
    "from scipy.optimize import curve_fit\n",
    "import random\n",
    "import matplotlib.pyplot as plt\n",
    "%matplotlib inline\n",
    "   \n",
    "# Get another fonts\n",
    "import matplotlib\n",
    "matplotlib.rcParams['mathtext.fontset'] = 'stix'\n",
    "matplotlib.rcParams['font.family'] = 'STIXGeneral'\n",
    "\n",
    "sorted([f.name for f in matplotlib.font_manager.fontManager.ttflist]);"
   ]
  },
  {
   "cell_type": "markdown",
   "metadata": {},
   "source": [
    "## Define All Functions"
   ]
  },
  {
   "cell_type": "markdown",
   "metadata": {},
   "source": [
    "### RBF approach\n",
    "Define a Radial Basis Function:"
   ]
  },
  {
   "cell_type": "code",
   "execution_count": 2,
   "metadata": {},
   "outputs": [],
   "source": [
    "def rbf(x,loc,shape):\n",
    "    '''\n",
    "    Radial Basis function.\n",
    "    \n",
    "    Parameters:\n",
    "    loc   -- float, defines a location of an RBF\n",
    "    shape -- float, defines a shape (>0)\n",
    "    '''\n",
    "    return np.exp( -(x-loc)**2/(2*shape**2) )"
   ]
  },
  {
   "cell_type": "markdown",
   "metadata": {},
   "source": [
    "Based on this RBF, define a Gaussian comb and corresponding expressions for the mean value and variance:"
   ]
  },
  {
   "cell_type": "code",
   "execution_count": 3,
   "metadata": {},
   "outputs": [],
   "source": [
    "'''\n",
    "The functions below have the following Parameters:\n",
    "weights -- list of floats, weights for kernels (all weights >0)\n",
    "locs    -- list of floats, locations of kernels in a comb\n",
    "shape   -- float, a shape parameter (>0)\n",
    "'''\n",
    "\n",
    "def gauss_comb(x, weights, locs, shape):\n",
    "    '''\n",
    "    The sum of equally separated weighted RBFs, a Gaussian comb.\n",
    "    '''\n",
    "    result = 0\n",
    "    for w,b in zip(weights,locs):\n",
    "        result += w * rbf(x,b,shape)\n",
    "        \n",
    "    return result\n",
    "\n",
    "def comb_mean(weights, locs):\n",
    "    '''\n",
    "    A mean value in the comb representation.\n",
    "    Note that first the corresponding comb should be constructed that has a meaning of a PDF.\n",
    "    '''\n",
    "    result = 0\n",
    "    for w,b in zip(weights,locs):\n",
    "        result += w * b * shape\n",
    "        \n",
    "    return np.sqrt(2*np.pi) * result\n",
    "\n",
    "def comb_var(weights, locs, shape):\n",
    "    '''\n",
    "    A variance in the comb representation.\n",
    "    Note that first the corresponding comb should be constructed that has a meaning of a PDF.\n",
    "    '''\n",
    "    result = 0\n",
    "    for w,b in zip(weights,locs):\n",
    "        result += w*shape * (b**2 + shape**2)\n",
    "    \n",
    "    return np.sqrt(2*np.pi) * result - comb_mean(weights, locs)**2"
   ]
  },
  {
   "cell_type": "markdown",
   "metadata": {},
   "source": [
    "### Analytical solution for the total gate delay\n",
    "\n",
    "Derivation of these formulas is to be published."
   ]
  },
  {
   "cell_type": "markdown",
   "metadata": {},
   "source": [
    "A total gate delay is determined by (i) input signals' delays and (ii) gate's operation time. For the case of two input signals and all delays normally distributed, the probability density function $\\mathfrak f(x)$ of the total gate delay reads"
   ]
  },
  {
   "cell_type": "code",
   "execution_count": 4,
   "metadata": {},
   "outputs": [],
   "source": [
    "# Gaussian kernel funcion\n",
    "gkernel = lambda x: np.exp( - x**2 / 2 )\n",
    "# Gaussian cdf\n",
    "Phi = lambda x: 0.5 * ( 1 + sp.erf( x/np.sqrt(2) ) )\n",
    "\n",
    "def gate_pdf (x, input1, input2, gate, rho):\n",
    "    '''\n",
    "    The probability density function of the total gate delay.\n",
    "    \n",
    "    Parameters:\n",
    "\n",
    "    input1, input2 -- list, parameters that determine inputs' delays in the following format:\n",
    "                      [1/(np.sqrt(2*np.pi)*std), mean value, std]\n",
    "    gate           -- list, parameters that determine gate's operation time in the following format:\n",
    "                      [1/(np.sqrt(2*np.pi)*std), mean value, std]\n",
    "    rho            -- float (-1 < rho < 1), a correlation coefficient between inputs \n",
    "    '''\n",
    "    mu0 = gate[1]\n",
    "    mu1 = input1[1]\n",
    "    mu2 = input2[1]\n",
    "    means = [ mu0,mu1,mu2 ]\n",
    "    \n",
    "    s0 = gate[2]\n",
    "    s1 = input1[2]\n",
    "    s2 = input2[2]\n",
    "    var = [ s0,s1,s2 ]\n",
    "    \n",
    "    a = [ gate[0], input1[0], input2[0] ]\n",
    "    C = 2*np.pi * a[0]*a[1]*a[2] * s0*var[1]*var[2]\n",
    "    \n",
    "    sigma = lambda i: np.sqrt( s0**2 + var[int(i)]**2 )\n",
    "    kappa = lambda i,j: s0*var[int(i)] / (var[int(j)]*sigma(i)) \n",
    "    \n",
    "    fun = lambda i: gkernel( (x - mu0 - means[int(i)])/sigma(int(i)) )/sigma(int(i))\n",
    "    \n",
    "    coef = lambda i,j: 1 / np.sqrt( (1-rho**2)/( 1-rho*var[int(j)]/var[int(i)] )**2 + kappa(i,j)**2 )\n",
    "    arg1 = lambda i,j: ( var[int(i)]**2 * (x-mu0) + s0**2*means[int(i)] )/(s0**2 + var[int(i)]**2)/var[int(j)] * np.sign( 1-rho*var[int(j)]/var[int(i)] )\n",
    "    arg2 = lambda i,j: - ( var[int(i)]*means[int(j)]-rho*var[int(j)]*means[int(i)] ) / ( var[int(j)]*np.abs( var[int(i)]-rho*var[int(j)] ) )\n",
    "    \n",
    "    return  C * ( fun(1)*Phi( coef(1,2)*(arg1(1,2) + arg2(1,2)) ) + fun(2)*Phi( coef(2,1)*(arg1(2,1) + arg2(2,1)) ) )"
   ]
  },
  {
   "cell_type": "markdown",
   "metadata": {},
   "source": [
    "The mean and variance of a gate delay:"
   ]
  },
  {
   "cell_type": "code",
   "execution_count": 5,
   "metadata": {},
   "outputs": [],
   "source": [
    "# All parameters are the same as above.\n",
    "\n",
    "def gate_mean (input1, input2, gate, rho):\n",
    "    '''\n",
    "    The first moment, mean value of the total gate delay.\n",
    "    '''\n",
    "    mu0 = gate[1]\n",
    "    mu1 = input1[1]\n",
    "    mu2 = input2[1]\n",
    "    means = [ mu0,mu1,mu2 ]\n",
    "    \n",
    "    s0 = gate[2]\n",
    "    s1 = input1[2]\n",
    "    s2 = input2[2]\n",
    "    var = [ s0,s1,s2 ]\n",
    "    \n",
    "    a = [ gate[0], input1[0], input2[0] ]\n",
    "    C = 2*np.pi * a[0]*a[1]*a[2] * s0*var[1]*var[2]\n",
    "    \n",
    "    sigma = lambda i: np.sqrt( s0**2 + var[int(i)]**2 )\n",
    "    kappa = lambda i,j: (var[int(i)] - rho*var[int(j)])/np.sqrt(1-rho**2) * s0 / (var[int(j)]*sigma(i))  \n",
    "    \n",
    "    coef = lambda i,j: np.sqrt( 1 + kappa(i,j)**2 * (var[int(i)]**2/s0**2 + 1) )\n",
    "    arg  = lambda i,j: 1/np.sqrt(1-rho**2) * (means[int(i)]-means[int(j)]) / ( var[int(j)]*coef(i,j) )\n",
    "    body = lambda i,j: np.sqrt(2*np.pi)*(mu0+means[int(i)]) * Phi(arg(i,j)) +  var[int(i)]*sigma(i)/s0 * kappa(i,j)/coef(i,j) * np.exp( -0.5*arg(i,j)**2 )\n",
    "    \n",
    "    return C * ( body(1,2) + body(2,1) )\n",
    "\n",
    "def gateMoment2 (input1, input2, gate, rho):\n",
    "    '''\n",
    "    The second moment.\n",
    "    '''\n",
    "    mu0 = gate[1]\n",
    "    mu1 = input1[1]\n",
    "    mu2 = input2[1]\n",
    "    means = [ mu0,mu1,mu2 ]\n",
    "    \n",
    "    s0 = gate[2]\n",
    "    s1 = input1[2]\n",
    "    s2 = input2[2]\n",
    "    var = [ s0,s1,s2 ]\n",
    "    \n",
    "    a = [ gate[0], input1[0], input2[0] ]\n",
    "    C = 2*np.pi * a[0]*a[1]*a[2] * s0*var[1]*var[2]\n",
    "    \n",
    "    sigma = lambda i: np.sqrt( s0**2 + var[int(i)]**2 )\n",
    "    kappa = lambda i,j: (var[int(i)] - rho*var[int(j)])/np.sqrt(1-rho**2) * s0 / (var[int(j)]*sigma(i)) \n",
    "    varkappa = lambda i,j: np.sqrt( 1 + kappa(i,j)**2 * (1 + var[int(i)]**2 / s0**2) )\n",
    "    \n",
    "    arg1 = lambda i,j: kappa(i,j) * sigma(i)*means[int(i)]/(var[int(i)]*s0)\n",
    "    arg2 = lambda i,j: means[int(j)]/var[int(j)] * ( 1 - rho*var[int(j)]*means[int(i)]/(var[int(i)]*means[int(j)]) ) / np.sqrt( 1 - rho**2 )\n",
    "    y = lambda i,j: arg1(i,j) - arg2(i,j)\n",
    "    \n",
    "    coef1 = lambda i,j: np.sqrt(2*np.pi)*( (mu0+means[int(i)])**2 + sigma(i)**2 )\n",
    "    coef2 = lambda i,j: 2*var[int(i)]*sigma(i)**2/s0 * kappa(i,j)/varkappa(i,j) * ( (mu0+means[int(i)])/sigma(i) - 0.5*var[int(i)]/s0 * kappa(i,j)/varkappa(i,j)**2 * y(i,j))\n",
    "    body  = lambda i,j:  coef1(i,j) * Phi(y(i,j)/varkappa(i,j)) +  coef2(i,j) * np.exp( -0.5*y(i,j)**2/varkappa(i,j)**2 )\n",
    "    \n",
    "    return C * ( body(1,2) + body(2,1) )\n",
    "\n",
    "\n",
    "def gate_var (input1, input2, gate, rho):\n",
    "    '''\n",
    "    The variance of the total gate delay.\n",
    "    '''\n",
    "    return gateMoment2 (input1, input2, gate, rho) - gate_mean(input1, input2, gate, rho)**2"
   ]
  },
  {
   "cell_type": "markdown",
   "metadata": {},
   "source": [
    "When the inputs are given by Gaussian combs, the pdf, mean and variance of the total gate delay are determined as follows:"
   ]
  },
  {
   "cell_type": "code",
   "execution_count": 6,
   "metadata": {},
   "outputs": [],
   "source": [
    "'''\n",
    "Parameters:\n",
    "input1, input2   -- double array of floats, parameters that determine inputs' delays in a comb representation.\n",
    "                    input1[0], input2[0] contain weights for kernels\n",
    "                    input1[1], input2[1] contain locations of kernels\n",
    "\n",
    "gate, rho, shape --  the same as above.\n",
    "'''\n",
    "\n",
    "def decomposed_gate_pdf(x, input1, input2, gate, rho, shape):\n",
    "    \"\"\"\n",
    "    The total gate delay's pdf if inputs are given via Gaussian combs.\n",
    "    \"\"\"\n",
    "    # unpack inputs\n",
    "    weights_1, locs_1 = input1\n",
    "    weights_2, locs_2 = input2\n",
    "    result = 0\n",
    "    for w1,m1 in zip(weights_1,locs_1):\n",
    "        for w2,m2 in zip(weights_2,locs_2):\n",
    "            result += gate_pdf(x, [w1, m1, shape], [w2, m2, shape], gate, rho )\n",
    "\n",
    "    return result\n",
    "\n",
    "def decomposed_gate_mean(input1, input2, gate, rho, shape):\n",
    "    \"\"\"\n",
    "    The mean value of the total gate deay if inputs are given via Gaussian combs.\n",
    "    \"\"\"\n",
    "    # unpack inputs\n",
    "    weights_1, means_1 = input1\n",
    "    weights_2, means_2 = input2\n",
    "    result = 0\n",
    "    for w1,m1 in zip(weights_1,means_1):\n",
    "        for w2,m2 in zip(weights_2,means_2):\n",
    "            result += gate_mean([w1, m1, shape], [w2, m2, shape], gate, rho )\n",
    "\n",
    "    return result\n",
    "\n",
    "def decomposed_gate_var(input1, input2, gate, rho, shape):\n",
    "    \"\"\"\n",
    "    The variance of the total gate delay if inputs are given via Gaussian combs.\n",
    "    \"\"\"\n",
    "    # unpack inputs\n",
    "    weights_1, means_1 = input1\n",
    "    weights_2, means_2 = input2\n",
    "    result = 0\n",
    "    for w1,m1 in zip(weights_1,means_1):\n",
    "        for w2,m2 in zip(weights_2,means_2):\n",
    "            result += gateMoment2([w1, m1, shape], [w2, m2, shape], gate, rho )\n",
    "\n",
    "    return result - decomposed_gate_mean(input1, input2, gate, rho, shape)**2"
   ]
  },
  {
   "cell_type": "markdown",
   "metadata": {},
   "source": [
    "## Algorithms"
   ]
  },
  {
   "attachments": {
    "logic_gates_chain_(lncs).png": {
     "image/png": "[encoded data removed]"
    }
   },
   "cell_type": "markdown",
   "metadata": {},
   "source": [
    "The methodology is tested on a model circuit shown below.\n",
    "\n",
    "<img src=\"figs/logic_gates_chain_(lncs).png\" width=\"500\">\n",
    "\n",
    "For $n$ logic gates there are $n+1$ inputs in the circuit. Thus, it is required first to simulate the inputs and then traverse a delay through all the gates."
   ]
  },
  {
   "cell_type": "markdown",
   "metadata": {},
   "source": [
    "### Gaussian Comb Algorithm"
   ]
  },
  {
   "cell_type": "code",
   "execution_count": 7,
   "metadata": {},
   "outputs": [],
   "source": [
    "def get_comb(actual_mean, actual_std, xdata, ydata, n_rbf_func, shape):\n",
    "    \"\"\"\n",
    "    The function returns weights w_i and locations b_i of kernels for a Gaussian comb.\n",
    "    \n",
    "    Parameters:\n",
    "    actual_mean  -- float, a mean value for a PDF to fit\n",
    "    actual_std   -- float, an std for a PDF to fit\n",
    "    xdata, ydata -- arrays of floats, values of a function to fit and corresponding x-values\n",
    "                    (in the paper these are the bandwidth $\\delta y$)\n",
    "    n_rbf_func   -- int, number of RBFs in a comb\n",
    "    shape        -- float, shaping parameter (>0)\n",
    "    \"\"\"\n",
    "    # locations of kernels, array with b_i equally separated\n",
    "    locs = np.linspace(actual_mean - 4*actual_std, actual_mean + 4*actual_std, n_rbf_func)\n",
    "    # guess [1,1,...,1]\n",
    "    guess = [1 for _ in range(n_rbf_func)]\n",
    "    # bounds (all weights > 0)\n",
    "    bnds = ([0 for _ in range(n_rbf_func)],np.inf)\n",
    "    # Gaussian mixture (f_rbf)\n",
    "    mixture = lambda x,*p: gauss_comb(x,p,locs,shape)\n",
    "    # find the weights for the mixture\n",
    "    popt, pcov = curve_fit(mixture, xdata, ydata, guess, bounds=bnds)\n",
    "    \n",
    "    # return weighted Gaussian comb (weights and locs)\n",
    "    return popt, locs\n",
    "\n",
    "def preprocess_inputs(input_means, input_stds, n_rbf_func, shape, distribution):\n",
    "    '''\n",
    "    The function represents all inputs via Gaussian combs. Returns a list of lists.\n",
    "    Each sublist contains comb's weights and locs for the corresponding input.\n",
    "    \n",
    "    Parameters:\n",
    "    input_means  -- list of floats, inputs' mean values of delays\n",
    "    input_stds   -- list of floats, inputs' standard deviations of delays\n",
    "    n_rbf_func   -- int, number of RBFs in a comb\n",
    "    shape        -- float, shaping parameter (>0)\n",
    "    distribution -- str, defines a distribution to draw samples from; can take one of two values:\n",
    "                    'Normal' or 'LogNormal'\n",
    "    '''\n",
    "    \n",
    "    # Gaussian normalisation coefficient\n",
    "    a = lambda x: 1/(np.sqrt(2*np.pi)*x)\n",
    "    \n",
    "    # create an empty list to store the combs's weights and locs\n",
    "    result = [ ]\n",
    "    \n",
    "    # if input nodes are described by Gaussian distributions\n",
    "    if distribution == 'Normal':\n",
    "        for i in range(len(input_means)):\n",
    "            # get the data for input nodes\n",
    "            xdata = np.linspace(input_means[i]-6*input_stds[i], input_means[i]+6*input_stds[i], 75)\n",
    "            ydata = a(input_stds[i])*rbf(xdata,input_means[i],input_stds[i])\n",
    "            \n",
    "            # get a Gaussian comb and append its weights and locs to the list\n",
    "            result.append(get_comb(input_means[i], input_stds[i], xdata, ydata, n_rbf_func, shape))\n",
    "            \n",
    "    # if input nodes are described by LogNormal distributions\n",
    "    if distribution == 'LogNormal':\n",
    "        for i in range(len(input_means)):\n",
    "            sigma = np.sqrt( np.log( input_stds[i]**2/(input_means[i]**2) + 1 ) )\n",
    "            mu = np.log(input_means[i]) - sigma**2/2\n",
    "            # define a PDF of the lognorm dostribution\n",
    "            lognorm_pdf = lambda x: (np.exp(-(np.log(x) - mu)**2 / (2 * sigma**2))/ (x * sigma * np.sqrt(2 * np.pi)))\n",
    "            # get the data for input nodes\n",
    "            xdata = np.arange(0.1, input_means[i]+6*input_stds[i], 0.01)\n",
    "            ydata = lognorm_pdf(xdata)\n",
    "        \n",
    "            # get a Gaussian comb and append its weights and locs to the list\n",
    "            result.append(get_comb(input_means[i], input_stds[i], xdata, ydata, n_rbf_func, shape))\n",
    "    \n",
    "    return result\n",
    "\n",
    "\n",
    "def get_convolution(input1, input2, gate, n_rbf_func, shape):\n",
    "    '''\n",
    "    Performs the convolution of two PDFs given by Gaussian combs (distributions of inputs' delays)\n",
    "    with a Gaussian PDF (distribution of gate's operation time).\n",
    "    Returns a PDF of the total gate delay in a Gaussian comb form.\n",
    "    \n",
    "    Parameters:\n",
    "    input1, input2 -- arrays of floats, two inputs given by Gaussian combs\n",
    "    gate           -- list of floats, determines gate's operation time in the following format:\n",
    "                      [mean value, std];\n",
    "    n_rbf_func     -- int, number of RBFs in a comb\n",
    "    shape          -- float, shaping parameter (>0)\n",
    "    '''\n",
    "    # assume there are no correlations\n",
    "    rho = 0\n",
    "    # mean and std of the gate operation time\n",
    "    m0, s0 = gate\n",
    "    gate = [ 1/( np.sqrt(2*np.pi)*s0 ), m0, s0 ]\n",
    "\n",
    "    # get mean and std of the total gate delay\n",
    "    node_mean = decomposed_gate_mean(input1, input2, gate, rho, shape)\n",
    "    node_std = np.sqrt(decomposed_gate_var(input1, input2, gate, rho, shape))\n",
    "    # get data for the total gate delay's PDF\n",
    "    xdata = np.arange(node_mean-5*node_std, node_mean+5*node_std, 0.1)\n",
    "    ydata = decomposed_gate_pdf(xdata,input1,input2,gate,rho,shape)\n",
    "    # get a Gaussian comb for the PDF\n",
    "    result = get_comb(node_mean, node_std, xdata, ydata, n_rbf_func, shape)\n",
    "    \n",
    "    return result"
   ]
  },
  {
   "cell_type": "markdown",
   "metadata": {},
   "source": [
    "### Monte Carlo"
   ]
  },
  {
   "cell_type": "code",
   "execution_count": 8,
   "metadata": {},
   "outputs": [],
   "source": [
    "def MonteCarlo_inputs(input_means, input_stds, n_samples, distribution):\n",
    "    '''\n",
    "    Generates random samples for all the inputs. Returns list of lists with random samples.\n",
    "    Each sublist contains samples for the corresponding input.\n",
    "    \n",
    "    Parameters:\n",
    "    input_means  -- list of floats, inputs' mean values of delays\n",
    "    input_stds   -- list of floats, inputs' standard deviations of delays\n",
    "    n_samples    -- int, number of samples used for each simulation\n",
    "    distribution -- str, defines a distribution to draw samples from; can take one of two values:\n",
    "                    'Normal' or 'LogNormal'\n",
    "    '''\n",
    "    \n",
    "    # create an empty list of lists to store the simulation data\n",
    "    montecarlo = [[] for _ in range(len(input_means)) ]\n",
    "    \n",
    "    if distribution == 'Normal':\n",
    "        # get the data for input nodes\n",
    "        for i in range(len(input_means)):\n",
    "            montecarlo[i] = np.random.normal(input_means[i], input_stds[i], n_samples)\n",
    "            \n",
    "    if distribution == 'LogNormal':\n",
    "        # get the data for input nodes\n",
    "        for i in range(len(input_means)):\n",
    "            # get corresponding mu and sigma for the logrnomal pdf\n",
    "            sigma = np.sqrt( np.log( input_stds[i]**2/(input_means[i]**2) + 1 ) )\n",
    "            mu = np.log(input_means[i]) - sigma**2/2\n",
    "            # generate lognormal samples\n",
    "            montecarlo[i] = np.random.lognormal(mu, sigma, n_samples)\n",
    "            \n",
    "    return montecarlo\n",
    "\n",
    "def MonteCarlo_nodes(input1, input2, gate, n_samples):\n",
    "    '''\n",
    "    Performs simuation of a logic gate operation and returns samples for the total gate delay.\n",
    "    \n",
    "    Parameters:\n",
    "    input1, input2 -- arrays of floats, simulation samples for two inputs\n",
    "    gate           -- list of floats, determines gate's operation time in the following format:\n",
    "                      [mean value, std];\n",
    "                      gate's operation time is assumed to have a Gaussian distribution\n",
    "    n_samples      -- int, number of samples used\n",
    "    '''\n",
    "    m0 = gate[0]\n",
    "    s0 = gate[1]\n",
    "    \n",
    "    # gate operation time is assumed to have Gaussian distribution\n",
    "    montecarlo = np.maximum(input1,input2) + np.random.normal(m0, s0, n_samples)\n",
    "    \n",
    "    return montecarlo"
   ]
  },
  {
   "cell_type": "markdown",
   "metadata": {},
   "source": [
    "## Simulations"
   ]
  },
  {
   "cell_type": "code",
   "execution_count": 9,
   "metadata": {},
   "outputs": [
    {
     "name": "stdout",
     "output_type": "stream",
     "text": [
      "input means:\n",
      " [6.4, 4.7, 5.4, 5.7, 5.0, 4.5, 2.9, 6.5, 4.2, 6.6, 6.1, 7.0, 4.7, 3.3, 5.8, 2.6, 4.6, 3.6, 4.8, 4.2, 5.8]\n",
      "\n",
      "input stds:\n",
      " [0.79, 1.04, 0.67, 1.17, 0.24, 1.3, 0.62, 1.21, 1.12, 1.17, 0.46, 1.01, 0.48, 1.08, 0.7, 0.22, 0.23, 1.26, 0.88, 0.87, 0.88]\n"
     ]
    }
   ],
   "source": [
    "# it is used 20 nodes in the simulations\n",
    "number_of_nodes = 20\n",
    "\n",
    "# fix the random seed for reproducibility \n",
    "random.seed(1235) # comment this line to get different results\n",
    "\n",
    "# list with inputs' mean values\n",
    "input_means = [ random.randint(20,70)/10 for _ in range(number_of_nodes+1) ]\n",
    "# list with inputs' stds\n",
    "input_stds = [ random.randint(20,130)/100 for _ in range(number_of_nodes+1) ]\n",
    "print('input means:\\n',input_means)\n",
    "print('\\ninput stds:\\n',input_stds)"
   ]
  },
  {
   "cell_type": "code",
   "execution_count": 10,
   "metadata": {},
   "outputs": [],
   "source": [
    "# gate's operation time is fixed\n",
    "gate = [1, 0.5]"
   ]
  },
  {
   "cell_type": "markdown",
   "metadata": {},
   "source": [
    "Do Monte Carlo:"
   ]
  },
  {
   "cell_type": "code",
   "execution_count": 11,
   "metadata": {},
   "outputs": [],
   "source": [
    "n_samples = 1000000\n",
    "\n",
    "# simulate inputs\n",
    "nodes_simulation = [0 for _ in range(number_of_nodes)]\n",
    "inputs_simulation = MonteCarlo_inputs(input_means, input_stds, n_samples, 'Normal')\n",
    "\n",
    "# traverse the circuit\n",
    "nodes_simulation[0] = MonteCarlo_nodes(inputs_simulation[0], inputs_simulation[1], gate, n_samples)\n",
    "for i in range(1,number_of_nodes):\n",
    "    nodes_simulation[i] = MonteCarlo_nodes(nodes_simulation[i-1], inputs_simulation[i+1], gate, n_samples)"
   ]
  },
  {
   "cell_type": "markdown",
   "metadata": {},
   "source": [
    "Decompose the inputs' delays and get corresponding Gaussian combs.\n",
    "\n",
    "Note that the evaluation of the next block may take some time. On my machine with 1.7 GHz Intel Core i7 and 8 GB 1600 MHz DDR3, it takes around 20 seconds."
   ]
  },
  {
   "cell_type": "code",
   "execution_count": 12,
   "metadata": {},
   "outputs": [],
   "source": [
    "# define the topology of the Gaussian comb\n",
    "n_rbf_func = 55\n",
    "shape = 0.15\n",
    "\n",
    "# represent inputs' delays via the corresponding Gaussian combs\n",
    "inputs_combs = preprocess_inputs(input_means, input_stds, n_rbf_func, shape, 'Normal')"
   ]
  },
  {
   "cell_type": "markdown",
   "metadata": {},
   "source": [
    "Check if the comb representation of inputs give the desired result:"
   ]
  },
  {
   "cell_type": "code",
   "execution_count": 13,
   "metadata": {},
   "outputs": [
    {
     "name": "stdout",
     "output_type": "stream",
     "text": [
      "[mean, std]:\n",
      "True True\n",
      "True True\n",
      "True True\n",
      "True True\n",
      "True True\n",
      "True True\n",
      "True True\n",
      "True True\n",
      "True True\n",
      "True True\n",
      "True True\n",
      "True True\n",
      "True True\n",
      "True True\n",
      "True True\n",
      "True True\n",
      "True True\n",
      "True True\n",
      "True True\n",
      "True True\n",
      "True True\n"
     ]
    }
   ],
   "source": [
    "print('[mean, std]:')\n",
    "for i,comb in enumerate(inputs_combs):\n",
    "    weights, locs = comb\n",
    "    decomposed_mean = np.round(comb_mean(weights,locs),2)\n",
    "    decomposed_std = np.round(np.sqrt(comb_var(weights,locs,shape)),3)\n",
    "    print(input_means[i]==decomposed_mean, input_stds[i]==decomposed_std)\n",
    "\n",
    "# output should give all True    "
   ]
  },
  {
   "cell_type": "markdown",
   "metadata": {},
   "source": [
    "Traverse the circuit and get total gate delays for each node via calculating the convolutions:"
   ]
  },
  {
   "cell_type": "code",
   "execution_count": 14,
   "metadata": {},
   "outputs": [],
   "source": [
    "# this block takes around 50 seconds on my machine\n",
    "\n",
    "convols = [0 for _ in range(number_of_nodes)]\n",
    "# get the convolution for the first node\n",
    "convols[0] = get_convolution(inputs_combs[0], inputs_combs[1], gate, n_rbf_func, shape)\n",
    "# get the rest of nodes\n",
    "for i in range(1,number_of_nodes):\n",
    "    convols[i] = get_convolution(convols[i-1], inputs_combs[i+1], gate, n_rbf_func, shape)"
   ]
  },
  {
   "cell_type": "markdown",
   "metadata": {},
   "source": [
    "Compute relative errors in determination of the mean and stds with respect to MC results:"
   ]
  },
  {
   "cell_type": "code",
   "execution_count": 15,
   "metadata": {},
   "outputs": [],
   "source": [
    "# empty lists to store errors\n",
    "errors_mean = []\n",
    "errors_std = []\n",
    "\n",
    "#\n",
    "for node in range(number_of_nodes):\n",
    "    # unpack a comb\n",
    "    weights, locs = convols[node]\n",
    "    # calculate relative errors\n",
    "    relative_error_mean =  np.abs( np.round(np.mean(nodes_simulation[node]),2) - np.round(comb_mean(weights,locs),2) ) / np.round(np.mean(nodes_simulation[node]),2)\n",
    "    relative_error_std =  np.abs( np.round(np.std(nodes_simulation[node]),2) - np.round(np.sqrt(comb_var(weights,locs,shape)),2) ) / np.round(np.std(nodes_simulation[node]),2) \n",
    "    # append relative errors to the corresponding list\n",
    "    errors_mean.append(100*relative_error_mean)\n",
    "    errors_std.append(100*relative_error_std)"
   ]
  },
  {
   "cell_type": "markdown",
   "metadata": {},
   "source": [
    "Show relative errors for the first 7 nodes:"
   ]
  },
  {
   "cell_type": "code",
   "execution_count": 16,
   "metadata": {},
   "outputs": [
    {
     "name": "stdout",
     "output_type": "stream",
     "text": [
      "Error in mean and std in %:\n",
      "\n",
      "Node 1: 0.000, 0.000\n",
      "Node 2: 0.000, 0.000\n",
      "Node 3: 0.000, 0.000\n",
      "Node 4: 0.000, 0.763\n",
      "Node 5: 0.000, 0.000\n",
      "Node 6: 0.000, 0.671\n",
      "Node 7: 0.000, 1.274\n"
     ]
    }
   ],
   "source": [
    "print(\"Error in mean and std in %:\\n\")\n",
    "for i in range(7):\n",
    "    print(\"Node %s: %.3f, %.3f\" % (i+1,errors_mean[i+1],errors_std[i+1]) )\n",
    "    "
   ]
  },
  {
   "cell_type": "markdown",
   "metadata": {},
   "source": [
    "The relative error in mean is negligible (it can vary from one run of MC to another). But it is not the case with std.\n",
    "\n",
    "Plot the results:"
   ]
  },
  {
   "cell_type": "code",
   "execution_count": 17,
   "metadata": {},
   "outputs": [
    {
     "data": {
      "image/png": "[encoded data removed]",
      "text/plain": [
       "<Figure size 432x288 with 1 Axes>"
      ]
     },
     "metadata": {
      "needs_background": "light"
     },
     "output_type": "display_data"
    }
   ],
   "source": [
    "# create a figure\n",
    "fig_1 = plt.figure()\n",
    "# array with numbers of nodes passed\n",
    "nodes_passed = np.arange(1,number_of_nodes+1,1)\n",
    "\n",
    "# display errors in mean\n",
    "p1 = plt.plot(nodes_passed,errors_mean,'o', label='error in mean')\n",
    "c1 = p1[0].get_color()\n",
    "for node,point in zip(nodes_passed,errors_mean):\n",
    "    plt.vlines(node,0,point,c1)\n",
    "    \n",
    "# display errors in std\n",
    "# number of nodes in which to display the error in std \n",
    "display_nodes_std = 18\n",
    "p2 = plt.plot(nodes_passed[:display_nodes_std],errors_std[:display_nodes_std],'o', label='error in std')\n",
    "c2 = p2[0].get_color()\n",
    "for node,point in zip(nodes_passed[:display_nodes_std],errors_std):\n",
    "    plt.vlines(node,0,point,c2)\n",
    "    \n",
    "# add title, legend, etc.    \n",
    "plt.title('Error in Mean and Std', fontsize = 20)\n",
    "plt.legend(fontsize=16)\n",
    "plt.ylabel(\"Relative Error, $\\%$\", fontsize = 18)\n",
    "plt.xlabel('node', fontsize = 18)\n",
    "plt.yticks(fontsize=16)\n",
    "plt.xticks(np.arange(0,number_of_nodes+2,2),fontsize=16);\n",
    "\n",
    "# fig_1.savefig('lncs_error_in_mean_and_std.pdf', format='pdf', bbox_inches=\"tight\")"
   ]
  },
  {
   "cell_type": "markdown",
   "metadata": {},
   "source": [
    "The reason for high error in last nodes is that the topology of all Gaussian combs used in this test is fixed. Thus, it becomes nonoptimal for the later nodes. Consider two examples below."
   ]
  },
  {
   "cell_type": "code",
   "execution_count": 18,
   "metadata": {},
   "outputs": [
    {
     "data": {
      "image/png": "[encoded data removed]",
      "text/plain": [
       "<Figure size 432x288 with 1 Axes>"
      ]
     },
     "metadata": {
      "needs_background": "light"
     },
     "output_type": "display_data"
    }
   ],
   "source": [
    "node = 2\n",
    "\n",
    "fig_2 = plt.figure(figsize=(6,4))\n",
    "\n",
    "xdata_final = np.arange(4,13,0.01)\n",
    "# unpack the comb\n",
    "weights,locs = convols[node-1]\n",
    "\n",
    "# show a histogram from MC\n",
    "n, bins, patches = plt.hist(nodes_simulation[node-1], 100, density=True, alpha=0.7, label='Monte Carlo')\n",
    "# plot a PDF resulting from the RBF algorithm\n",
    "plt.plot(xdata_final,gauss_comb(xdata_final, weights, locs, shape), 'r-',label='Gaussian comb')\n",
    "\n",
    "plt.title('Node %s' % node, fontsize = 20)\n",
    "plt.legend(fontsize = 16)\n",
    "plt.ylabel(\"PDF\", fontsize = 18)\n",
    "plt.xlabel('$x$', fontsize = 18)\n",
    "plt.yticks(np.linspace(0,0.4,6),fontsize=16)\n",
    "plt.xticks(fontsize=16);\n",
    "\n",
    "# fig_2.savefig('lncs_node_%s.pdf' % node, format='pdf', bbox_inches=\"tight\")"
   ]
  },
  {
   "cell_type": "markdown",
   "metadata": {},
   "source": [
    "At node 2, the Gaussian comb fits the distribution perfectly, resulting in no error in mean and std."
   ]
  },
  {
   "cell_type": "code",
   "execution_count": 19,
   "metadata": {},
   "outputs": [
    {
     "data": {
      "image/png": "[encoded data removed]",
      "text/plain": [
       "<Figure size 432x288 with 1 Axes>"
      ]
     },
     "metadata": {
      "needs_background": "light"
     },
     "output_type": "display_data"
    }
   ],
   "source": [
    "node = 19\n",
    "\n",
    "fig_3 = plt.figure(figsize=(6,4))\n",
    "\n",
    "xdata_final = np.arange(15,35,0.01)\n",
    "# unpack the comb\n",
    "weights,locs = convols[node-1]\n",
    "\n",
    "# show a histogram from MC\n",
    "n, bins, patches = plt.hist(nodes_simulation[node-1], 100, density=True, alpha=0.7, label='Monte Carlo')\n",
    "# plot a PDF resulting from the RBF algorithm\n",
    "plt.plot(xdata_final,gauss_comb(xdata_final, weights, locs, shape), 'r-',label='Gaussian comb')\n",
    "\n",
    "plt.title('Node %s' % node, fontsize = 20)\n",
    "plt.legend(fontsize=16)\n",
    "plt.ylabel(\"PDF\", fontsize = 18)\n",
    "plt.xlabel('$x$', fontsize = 18)\n",
    "plt.yticks(np.arange(0,0.24,0.04),fontsize=16)\n",
    "plt.xticks(fontsize=16);\n",
    "\n",
    "# fig_3.savefig('lncs_node_%s.pdf' % node, format='pdf', bbox_inches=\"tight\")"
   ]
  },
  {
   "cell_type": "markdown",
   "metadata": {},
   "source": [
    "At node 19, the comb sprawls as the bandwidth $\\Delta y$ becomes large and the topology of the Gaussian comb is no longer optimal."
   ]
  },
  {
   "cell_type": "code",
   "execution_count": null,
   "metadata": {},
   "outputs": [],
   "source": []
  }
 ],
 "metadata": {
  "kernelspec": {
   "display_name": "Python 3",
   "language": "python",
   "name": "python3"
  },
  "language_info": {
   "codemirror_mode": {
    "name": "ipython",
    "version": 3
   },
   "file_extension": ".py",
   "mimetype": "text/x-python",
   "name": "python",
   "nbconvert_exporter": "python",
   "pygments_lexer": "ipython3",
   "version": "3.7.4"
  }
 },
 "nbformat": 4,
 "nbformat_minor": 4
}
